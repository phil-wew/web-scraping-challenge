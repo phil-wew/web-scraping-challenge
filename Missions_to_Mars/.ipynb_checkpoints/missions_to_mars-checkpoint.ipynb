{
 "cells": [
  {
   "cell_type": "code",
   "execution_count": 2,
   "metadata": {},
   "outputs": [],
   "source": [
    "from splinter import Browser\n",
    "from bs4 import BeautifulSoup\n",
    "import requests\n",
    "import pymongo\n",
    "import time\n",
    "import pandas as pd\n",
    "\n",
    "\n",
    "\n",
    "conn = 'mongodb://localhost:27017'\n",
    "client = pymongo.MongoClient(conn)\n"
   ]
  },
  {
   "cell_type": "code",
   "execution_count": null,
   "metadata": {},
   "outputs": [],
   "source": [
    "# Define database and collection\n",
    "db = client.mars_db\n",
    "collection = db.pages"
   ]
  },
  {
   "cell_type": "code",
   "execution_count": null,
   "metadata": {},
   "outputs": [],
   "source": [
    "# URL of page to be scraped\n",
    "url = 'https://mars.nasa.gov/news/'\n",
    "\n",
    "# Retrieve page with the requests module\n",
    "response = requests.get(url)\n",
    "# Create BeautifulSoup object; parse with 'lxml'\n",
    "soup = BeautifulSoup(response.text, 'lxml')"
   ]
  },
  {
   "cell_type": "code",
   "execution_count": null,
   "metadata": {},
   "outputs": [],
   "source": [
    "#find articles to scrape\n",
    "articles = soup.find_all('div', class_='slide')\n",
    "\n",
    "\n",
    "#loop through what was scraped to find the title and paragraph clip for articles\n",
    "for article in articles:\n",
    "    title = article.find('div', class_='content_title').text\n",
    "    paragraph = article.find('div', class_= 'rollover_description_inner').text\n",
    "    \n",
    "    print('---------------')\n",
    "    print(title)\n",
    "    print(paragraph)\n",
    "    \n",
    "    # put scraped info into dict\n",
    "    post = {\n",
    "        'title': title,\n",
    "        'paragraph': paragraph,\n",
    "        }\n",
    "\n",
    "    # Insert dictionary into MongoDB as a document\n",
    "    collection.insert_one(post)\n"
   ]
  },
  {
   "cell_type": "code",
   "execution_count": 48,
   "metadata": {},
   "outputs": [
    {
     "name": "stdout",
     "output_type": "stream",
     "text": [
      "-----------\n",
      "https://www.jpl.nasa.gov//spaceimages/images/mediumsize/PIA16153_ip.jpg\n"
     ]
    }
   ],
   "source": [
    "conn = 'mongodb://localhost:27017'\n",
    "client = pymongo.MongoClient(conn)\n",
    "\n",
    "# Define database and collection\n",
    "db = client.mars_db\n",
    "collection2 = db.image\n",
    "\n",
    "\n",
    "executable_path = {'executable_path': '/usr/local/bin/chromedriver'}\n",
    "\n",
    "browser = Browser('chrome', **executable_path, headless=False)\n",
    "\n",
    "#url to visit and scrape\n",
    "url2 = 'https://www.jpl.nasa.gov/spaceimages/?search=&category=Mars'\n",
    "browser.visit(url2)\n",
    "\n",
    "#click on full image button to scrape the link\n",
    "browser.click_link_by_id('full_image')\n",
    "\n",
    "time.sleep(1)\n",
    "\n",
    "html = browser.html\n",
    "soup = BeautifulSoup(html, \"html.parser\")\n",
    "\n",
    "#find the image info to scrape\n",
    "image_link = soup.find('img',class_= 'fancybox-image')['src']\n",
    "\n",
    "#add the scraped destination for the image to the prefix for the url\n",
    "featured_image_url =('https://www.jpl.nasa.gov/' + image_link) \n",
    "print('-----------')\n",
    "print('https://www.jpl.nasa.gov/' + image_link)\n",
    "    \n",
    "    #add to dict\n",
    "post2 = {\n",
    "    'image': featured_image_url\n",
    "}\n",
    "    #insert dict to doc in mongo\n",
    "collection2.insert_one(post2)\n",
    "    \n",
    "    \n",
    "browser.quit()    \n",
    "    "
   ]
  },
  {
   "cell_type": "code",
   "execution_count": 17,
   "metadata": {},
   "outputs": [],
   "source": [
    "conn = 'mongodb://localhost:27017'\n",
    "client = pymongo.MongoClient(conn)\n",
    "\n",
    "# Define database and collection\n",
    "e\n",
    "\n",
    "#take html and make into df with str data type\n",
    "df = pd.read_html(str('http://space-facts.com/mars/'))[0]\n",
    "\n",
    "#clean up columns in df\n",
    "df.columns = ['Description', 'Mars']\n",
    "\n",
    "description = df['Description']\n",
    "mars = df['Mars']\n",
    "\n",
    "#make dict with what was scraped\n",
    "table_dict = {'Description': description, 'Mars': mars}\n",
    "\n",
    "# #insert dict to doc in mongo\n",
    "collection3.insert_one(table_dict)\n"
   ]
  },
  {
   "cell_type": "code",
   "execution_count": 16,
   "metadata": {},
   "outputs": [
    {
     "data": {
      "text/plain": [
       "{'Description': 0    Equatorial Diameter:\n",
       " 1         Polar Diameter:\n",
       " 2                   Mass:\n",
       " 3                  Moons:\n",
       " 4         Orbit Distance:\n",
       " 5           Orbit Period:\n",
       " 6    Surface Temperature:\n",
       " 7           First Record:\n",
       " 8            Recorded By:\n",
       " Name: Description, dtype: object,\n",
       " 'Mars': 0                         6,792 km\n",
       " 1                         6,752 km\n",
       " 2    6.39 × 10^23 kg (0.11 Earths)\n",
       " 3              2 (Phobos & Deimos)\n",
       " 4         227,943,824 km (1.38 AU)\n",
       " 5             687 days (1.9 years)\n",
       " 6                     -87 to -5 °C\n",
       " 7                2nd millennium BC\n",
       " 8             Egyptian astronomers\n",
       " Name: Mars, dtype: object}"
      ]
     },
     "execution_count": 16,
     "metadata": {},
     "output_type": "execute_result"
    }
   ],
   "source": [
    "table_dict"
   ]
  },
  {
   "cell_type": "code",
   "execution_count": 87,
   "metadata": {},
   "outputs": [
    {
     "name": "stdout",
     "output_type": "stream",
     "text": [
      "------------\n",
      "https://astropedia.astrogeology.usgs.gov/download/Mars/Viking/cerberus_enhanced.tif/full.jpg\n",
      "Cerberus Hemisphere Enhanced\n",
      "------------\n",
      "https://astropedia.astrogeology.usgs.gov/download/Mars/Viking/schiaparelli_enhanced.tif/full.jpg\n",
      "Schiaparelli Hemisphere Enhanced\n",
      "------------\n",
      "https://astropedia.astrogeology.usgs.gov/download/Mars/Viking/syrtis_major_enhanced.tif/full.jpg\n",
      "Syrtis Major Hemisphere Enhanced\n",
      "------------\n",
      "https://astropedia.astrogeology.usgs.gov/download/Mars/Viking/valles_marineris_enhanced.tif/full.jpg\n",
      "Valles Marineris Hemisphere Enhanced\n",
      "Scraping Complete\n"
     ]
    }
   ],
   "source": [
    "conn = 'mongodb://localhost:27017'\n",
    "client = pymongo.MongoClient(conn)\n",
    "\n",
    "# Define database and collection\n",
    "db = client.mars_db\n",
    "collection4 = db.hemispheres\n",
    "\n",
    "executable_path = {'executable_path': '/usr/local/bin/chromedriver'}\n",
    "\n",
    "browser = Browser('chrome', **executable_path, headless=True)\n",
    "\n",
    "url4 = 'https://astrogeology.usgs.gov/search/results?q=hemisphere+enhanced&k1=target&v1=Mars'\n",
    "browser.visit(url4)\n",
    "\n",
    "#initialize emtpy dict\n",
    "mars_hem = []\n",
    "\n",
    "#identify links for each hemisphere to click\n",
    "links = browser.links.find_by_partial_text(\"Hemisphere\")\n",
    "\n",
    "#loop through each hemisphere link\n",
    "for i in range(len(links)):\n",
    "    \n",
    "    browser.links.find_by_partial_text(\"Hemisphere\")[i].click()\n",
    "\n",
    "    time.sleep(1)\n",
    "    \n",
    "    html = browser.html\n",
    "    \n",
    "    soup = BeautifulSoup(html, 'html.parser')\n",
    "    \n",
    "    \n",
    "    #find & scrape info where image location is nested\n",
    "    images = soup.find_all('div', class_='downloads')\n",
    "    \n",
    "    \n",
    "    browser.back()\n",
    "    \n",
    "    #loop through what was scraped and pull out the img url and title \n",
    "    for image in images:\n",
    "        ul = image.find('ul')\n",
    "        li = ul.find('li')\n",
    "        link = li.find('a')\n",
    "        img_url = link['href']\n",
    "        print('------------')\n",
    "        print(img_url)\n",
    "        \n",
    "    title = soup.find('h2', class_= 'title').text\n",
    "    print(title)\n",
    "    \n",
    "    #take what was scraped and put into dict\n",
    "    hemisphere={\"title\":title,\"img_url\":img_url}\n",
    "    \n",
    "    mars_hem.append(hemisphere)\n",
    "    #dict > df to cleanup a bit \n",
    "    mars_df = pd.DataFrame(mars_hem)\n",
    "\n",
    "    mars_df.columns = ['title', 'img_url']\n",
    "\n",
    "    mars_df.set_index('title', inplace=True)\n",
    "    #back to dict to insert to mongo\n",
    "    hem_dict = mars_df.to_dict()\n",
    "    \n",
    "    \n",
    "collection4.insert_one(hem_dict)\n",
    "    \n",
    "print('Scraping Complete')\n",
    "    \n",
    "\n"
   ]
  },
  {
   "cell_type": "code",
   "execution_count": 84,
   "metadata": {},
   "outputs": [],
   "source": []
  }
 ],
 "metadata": {
  "kernelspec": {
   "display_name": "Python 3",
   "language": "python",
   "name": "python3"
  },
  "language_info": {
   "codemirror_mode": {
    "name": "ipython",
    "version": 3
   },
   "file_extension": ".py",
   "mimetype": "text/x-python",
   "name": "python",
   "nbconvert_exporter": "python",
   "pygments_lexer": "ipython3",
   "version": "3.6.10"
  }
 },
 "nbformat": 4,
 "nbformat_minor": 4
}
